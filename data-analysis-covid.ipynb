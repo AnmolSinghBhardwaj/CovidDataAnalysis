{
 "cells": [
  {
   "cell_type": "code",
   "execution_count": 58,
   "id": "2374d1d7",
   "metadata": {},
   "outputs": [],
   "source": [
    "import numpy as np\n",
    "import pandas as pd\n",
    "import os\n",
    "import urllib\n",
    "import matplotlib.pyplot as plt\n",
    "%matplotlib inline"
   ]
  },
  {
   "cell_type": "code",
   "execution_count": 60,
   "id": "c3080ebc",
   "metadata": {},
   "outputs": [],
   "source": [
    "url=\"https://covid19.who.int/WHO-COVID-19-global-data.csv\"\n",
    "file_path = os.path.join(\"data\",\"covid\")"
   ]
  },
  {
   "cell_type": "code",
   "execution_count": 61,
   "id": "c4362279",
   "metadata": {},
   "outputs": [
    {
     "data": {
      "text/plain": [
       "('data\\\\covid\\\\WHO-COVID-19-global-data.csv',\n",
       " <http.client.HTTPMessage at 0x1b402926910>)"
      ]
     },
     "execution_count": 61,
     "metadata": {},
     "output_type": "execute_result"
    }
   ],
   "source": [
    "os.makedirs(file_path, exist_ok=True)\n",
    "csv_path = os.path.join(file_path, \"WHO-COVID-19-global-data.csv\")\n",
    "urllib.request.urlretrieve(url,csv_path)"
   ]
  },
  {
   "cell_type": "code",
   "execution_count": 62,
   "id": "4688655e",
   "metadata": {},
   "outputs": [
    {
     "data": {
      "text/html": [
       "<div>\n",
       "<style scoped>\n",
       "    .dataframe tbody tr th:only-of-type {\n",
       "        vertical-align: middle;\n",
       "    }\n",
       "\n",
       "    .dataframe tbody tr th {\n",
       "        vertical-align: top;\n",
       "    }\n",
       "\n",
       "    .dataframe thead th {\n",
       "        text-align: right;\n",
       "    }\n",
       "</style>\n",
       "<table border=\"1\" class=\"dataframe\">\n",
       "  <thead>\n",
       "    <tr style=\"text-align: right;\">\n",
       "      <th></th>\n",
       "      <th>Date_reported</th>\n",
       "      <th>Country_code</th>\n",
       "      <th>Country</th>\n",
       "      <th>WHO_region</th>\n",
       "      <th>New_cases</th>\n",
       "      <th>Cumulative_cases</th>\n",
       "      <th>New_deaths</th>\n",
       "      <th>Cumulative_deaths</th>\n",
       "    </tr>\n",
       "  </thead>\n",
       "  <tbody>\n",
       "    <tr>\n",
       "      <th>0</th>\n",
       "      <td>2020-01-03</td>\n",
       "      <td>AF</td>\n",
       "      <td>Afghanistan</td>\n",
       "      <td>EMRO</td>\n",
       "      <td>0</td>\n",
       "      <td>0</td>\n",
       "      <td>0</td>\n",
       "      <td>0</td>\n",
       "    </tr>\n",
       "    <tr>\n",
       "      <th>1</th>\n",
       "      <td>2020-01-04</td>\n",
       "      <td>AF</td>\n",
       "      <td>Afghanistan</td>\n",
       "      <td>EMRO</td>\n",
       "      <td>0</td>\n",
       "      <td>0</td>\n",
       "      <td>0</td>\n",
       "      <td>0</td>\n",
       "    </tr>\n",
       "    <tr>\n",
       "      <th>2</th>\n",
       "      <td>2020-01-05</td>\n",
       "      <td>AF</td>\n",
       "      <td>Afghanistan</td>\n",
       "      <td>EMRO</td>\n",
       "      <td>0</td>\n",
       "      <td>0</td>\n",
       "      <td>0</td>\n",
       "      <td>0</td>\n",
       "    </tr>\n",
       "    <tr>\n",
       "      <th>3</th>\n",
       "      <td>2020-01-06</td>\n",
       "      <td>AF</td>\n",
       "      <td>Afghanistan</td>\n",
       "      <td>EMRO</td>\n",
       "      <td>0</td>\n",
       "      <td>0</td>\n",
       "      <td>0</td>\n",
       "      <td>0</td>\n",
       "    </tr>\n",
       "    <tr>\n",
       "      <th>4</th>\n",
       "      <td>2020-01-07</td>\n",
       "      <td>AF</td>\n",
       "      <td>Afghanistan</td>\n",
       "      <td>EMRO</td>\n",
       "      <td>0</td>\n",
       "      <td>0</td>\n",
       "      <td>0</td>\n",
       "      <td>0</td>\n",
       "    </tr>\n",
       "  </tbody>\n",
       "</table>\n",
       "</div>"
      ],
      "text/plain": [
       "  Date_reported Country_code      Country WHO_region  New_cases  \\\n",
       "0    2020-01-03           AF  Afghanistan       EMRO          0   \n",
       "1    2020-01-04           AF  Afghanistan       EMRO          0   \n",
       "2    2020-01-05           AF  Afghanistan       EMRO          0   \n",
       "3    2020-01-06           AF  Afghanistan       EMRO          0   \n",
       "4    2020-01-07           AF  Afghanistan       EMRO          0   \n",
       "\n",
       "   Cumulative_cases  New_deaths  Cumulative_deaths  \n",
       "0                 0           0                  0  \n",
       "1                 0           0                  0  \n",
       "2                 0           0                  0  \n",
       "3                 0           0                  0  \n",
       "4                 0           0                  0  "
      ]
     },
     "execution_count": 62,
     "metadata": {},
     "output_type": "execute_result"
    }
   ],
   "source": [
    "df= pd.read_csv(csv_path)\n",
    "df.head()"
   ]
  },
  {
   "cell_type": "code",
   "execution_count": 63,
   "id": "ed57a298",
   "metadata": {},
   "outputs": [
    {
     "data": {
      "text/plain": [
       "Date_reported        object\n",
       "Country_code         object\n",
       "Country              object\n",
       "WHO_region           object\n",
       "New_cases             int64\n",
       "Cumulative_cases      int64\n",
       "New_deaths            int64\n",
       "Cumulative_deaths     int64\n",
       "dtype: object"
      ]
     },
     "execution_count": 63,
     "metadata": {},
     "output_type": "execute_result"
    }
   ],
   "source": [
    "df.dtypes"
   ]
  },
  {
   "cell_type": "code",
   "execution_count": 64,
   "id": "399750e1",
   "metadata": {},
   "outputs": [
    {
     "data": {
      "text/plain": [
       "(226572, 8)"
      ]
     },
     "execution_count": 64,
     "metadata": {},
     "output_type": "execute_result"
    }
   ],
   "source": [
    "df.shape"
   ]
  },
  {
   "cell_type": "code",
   "execution_count": 65,
   "id": "09b83f2c",
   "metadata": {},
   "outputs": [
    {
     "name": "stdout",
     "output_type": "stream",
     "text": [
      "<class 'pandas.core.frame.DataFrame'>\n",
      "RangeIndex: 226572 entries, 0 to 226571\n",
      "Data columns (total 8 columns):\n",
      " #   Column             Non-Null Count   Dtype \n",
      "---  ------             --------------   ----- \n",
      " 0   Date_reported      226572 non-null  object\n",
      " 1   Country_code       225616 non-null  object\n",
      " 2   Country            226572 non-null  object\n",
      " 3   WHO_region         226572 non-null  object\n",
      " 4   New_cases          226572 non-null  int64 \n",
      " 5   Cumulative_cases   226572 non-null  int64 \n",
      " 6   New_deaths         226572 non-null  int64 \n",
      " 7   Cumulative_deaths  226572 non-null  int64 \n",
      "dtypes: int64(4), object(4)\n",
      "memory usage: 13.8+ MB\n"
     ]
    }
   ],
   "source": [
    "df.info()"
   ]
  },
  {
   "cell_type": "code",
   "execution_count": 66,
   "id": "599a9a0f",
   "metadata": {},
   "outputs": [
    {
     "data": {
      "text/html": [
       "<div>\n",
       "<style scoped>\n",
       "    .dataframe tbody tr th:only-of-type {\n",
       "        vertical-align: middle;\n",
       "    }\n",
       "\n",
       "    .dataframe tbody tr th {\n",
       "        vertical-align: top;\n",
       "    }\n",
       "\n",
       "    .dataframe thead th {\n",
       "        text-align: right;\n",
       "    }\n",
       "</style>\n",
       "<table border=\"1\" class=\"dataframe\">\n",
       "  <thead>\n",
       "    <tr style=\"text-align: right;\">\n",
       "      <th></th>\n",
       "      <th>New_cases</th>\n",
       "      <th>Cumulative_cases</th>\n",
       "      <th>New_deaths</th>\n",
       "      <th>Cumulative_deaths</th>\n",
       "    </tr>\n",
       "  </thead>\n",
       "  <tbody>\n",
       "    <tr>\n",
       "      <th>count</th>\n",
       "      <td>2.265720e+05</td>\n",
       "      <td>2.265720e+05</td>\n",
       "      <td>226572.000000</td>\n",
       "      <td>2.265720e+05</td>\n",
       "    </tr>\n",
       "    <tr>\n",
       "      <th>mean</th>\n",
       "      <td>2.592538e+03</td>\n",
       "      <td>8.113013e+05</td>\n",
       "      <td>28.373590</td>\n",
       "      <td>1.344197e+04</td>\n",
       "    </tr>\n",
       "    <tr>\n",
       "      <th>std</th>\n",
       "      <td>1.651270e+04</td>\n",
       "      <td>4.072050e+06</td>\n",
       "      <td>155.122081</td>\n",
       "      <td>6.081455e+04</td>\n",
       "    </tr>\n",
       "    <tr>\n",
       "      <th>min</th>\n",
       "      <td>-3.295200e+04</td>\n",
       "      <td>0.000000e+00</td>\n",
       "      <td>-2440.000000</td>\n",
       "      <td>0.000000e+00</td>\n",
       "    </tr>\n",
       "    <tr>\n",
       "      <th>25%</th>\n",
       "      <td>0.000000e+00</td>\n",
       "      <td>4.340000e+02</td>\n",
       "      <td>0.000000</td>\n",
       "      <td>4.000000e+00</td>\n",
       "    </tr>\n",
       "    <tr>\n",
       "      <th>50%</th>\n",
       "      <td>2.200000e+01</td>\n",
       "      <td>1.568000e+04</td>\n",
       "      <td>0.000000</td>\n",
       "      <td>1.890000e+02</td>\n",
       "    </tr>\n",
       "    <tr>\n",
       "      <th>75%</th>\n",
       "      <td>4.890000e+02</td>\n",
       "      <td>2.226300e+05</td>\n",
       "      <td>5.000000</td>\n",
       "      <td>3.397250e+03</td>\n",
       "    </tr>\n",
       "    <tr>\n",
       "      <th>max</th>\n",
       "      <td>1.255833e+06</td>\n",
       "      <td>9.143545e+07</td>\n",
       "      <td>11447.000000</td>\n",
       "      <td>1.025353e+06</td>\n",
       "    </tr>\n",
       "  </tbody>\n",
       "</table>\n",
       "</div>"
      ],
      "text/plain": [
       "          New_cases  Cumulative_cases     New_deaths  Cumulative_deaths\n",
       "count  2.265720e+05      2.265720e+05  226572.000000       2.265720e+05\n",
       "mean   2.592538e+03      8.113013e+05      28.373590       1.344197e+04\n",
       "std    1.651270e+04      4.072050e+06     155.122081       6.081455e+04\n",
       "min   -3.295200e+04      0.000000e+00   -2440.000000       0.000000e+00\n",
       "25%    0.000000e+00      4.340000e+02       0.000000       4.000000e+00\n",
       "50%    2.200000e+01      1.568000e+04       0.000000       1.890000e+02\n",
       "75%    4.890000e+02      2.226300e+05       5.000000       3.397250e+03\n",
       "max    1.255833e+06      9.143545e+07   11447.000000       1.025353e+06"
      ]
     },
     "execution_count": 66,
     "metadata": {},
     "output_type": "execute_result"
    }
   ],
   "source": [
    "df.describe()"
   ]
  },
  {
   "cell_type": "code",
   "execution_count": 67,
   "id": "c7fa3e7a",
   "metadata": {},
   "outputs": [
    {
     "data": {
      "text/plain": [
       "Index(['Date_reported', 'Country_code', 'Country', 'WHO_region', 'New_cases',\n",
       "       'Cumulative_cases', 'New_deaths', 'Cumulative_deaths'],\n",
       "      dtype='object')"
      ]
     },
     "execution_count": 67,
     "metadata": {},
     "output_type": "execute_result"
    }
   ],
   "source": [
    "df.columns= [col.strip() for col in df.columns]\n",
    "df.columns"
   ]
  },
  {
   "cell_type": "code",
   "execution_count": 68,
   "id": "c2bf0c91",
   "metadata": {},
   "outputs": [
    {
     "data": {
      "text/plain": [
       "Date_reported          0\n",
       "Country_code         956\n",
       "Country                0\n",
       "WHO_region             0\n",
       "New_cases              0\n",
       "Cumulative_cases       0\n",
       "New_deaths             0\n",
       "Cumulative_deaths      0\n",
       "dtype: int64"
      ]
     },
     "execution_count": 68,
     "metadata": {},
     "output_type": "execute_result"
    }
   ],
   "source": [
    "df.isnull().sum()"
   ]
  },
  {
   "cell_type": "code",
   "execution_count": 69,
   "id": "3a8e1dd9",
   "metadata": {},
   "outputs": [
    {
     "data": {
      "text/plain": [
       "0        2020-01-03\n",
       "1        2020-01-04\n",
       "2        2020-01-05\n",
       "3        2020-01-06\n",
       "4        2020-01-07\n",
       "            ...    \n",
       "226567   2022-08-11\n",
       "226568   2022-08-12\n",
       "226569   2022-08-13\n",
       "226570   2022-08-14\n",
       "226571   2022-08-15\n",
       "Name: Date_reported, Length: 226572, dtype: datetime64[ns]"
      ]
     },
     "execution_count": 69,
     "metadata": {},
     "output_type": "execute_result"
    }
   ],
   "source": [
    "pd.to_datetime(df.Date_reported)"
   ]
  },
  {
   "cell_type": "code",
   "execution_count": null,
   "id": "e102e546",
   "metadata": {},
   "outputs": [],
   "source": []
  },
  {
   "cell_type": "code",
   "execution_count": 70,
   "id": "af6de5fd",
   "metadata": {},
   "outputs": [],
   "source": [
    "df_germany=df[df.Country == \"Germany\"]"
   ]
  },
  {
   "cell_type": "code",
   "execution_count": 71,
   "id": "4d3ceab5",
   "metadata": {},
   "outputs": [
    {
     "data": {
      "text/html": [
       "<div>\n",
       "<style scoped>\n",
       "    .dataframe tbody tr th:only-of-type {\n",
       "        vertical-align: middle;\n",
       "    }\n",
       "\n",
       "    .dataframe tbody tr th {\n",
       "        vertical-align: top;\n",
       "    }\n",
       "\n",
       "    .dataframe thead th {\n",
       "        text-align: right;\n",
       "    }\n",
       "</style>\n",
       "<table border=\"1\" class=\"dataframe\">\n",
       "  <thead>\n",
       "    <tr style=\"text-align: right;\">\n",
       "      <th></th>\n",
       "      <th>Date_reported</th>\n",
       "      <th>Country_code</th>\n",
       "      <th>Country</th>\n",
       "      <th>WHO_region</th>\n",
       "      <th>New_cases</th>\n",
       "      <th>Cumulative_cases</th>\n",
       "      <th>New_deaths</th>\n",
       "      <th>Cumulative_deaths</th>\n",
       "    </tr>\n",
       "  </thead>\n",
       "  <tbody>\n",
       "    <tr>\n",
       "      <th>74568</th>\n",
       "      <td>2020-01-03</td>\n",
       "      <td>DE</td>\n",
       "      <td>Germany</td>\n",
       "      <td>EURO</td>\n",
       "      <td>0</td>\n",
       "      <td>0</td>\n",
       "      <td>0</td>\n",
       "      <td>0</td>\n",
       "    </tr>\n",
       "    <tr>\n",
       "      <th>74569</th>\n",
       "      <td>2020-01-04</td>\n",
       "      <td>DE</td>\n",
       "      <td>Germany</td>\n",
       "      <td>EURO</td>\n",
       "      <td>1</td>\n",
       "      <td>1</td>\n",
       "      <td>0</td>\n",
       "      <td>0</td>\n",
       "    </tr>\n",
       "    <tr>\n",
       "      <th>74570</th>\n",
       "      <td>2020-01-05</td>\n",
       "      <td>DE</td>\n",
       "      <td>Germany</td>\n",
       "      <td>EURO</td>\n",
       "      <td>0</td>\n",
       "      <td>1</td>\n",
       "      <td>0</td>\n",
       "      <td>0</td>\n",
       "    </tr>\n",
       "    <tr>\n",
       "      <th>74571</th>\n",
       "      <td>2020-01-06</td>\n",
       "      <td>DE</td>\n",
       "      <td>Germany</td>\n",
       "      <td>EURO</td>\n",
       "      <td>0</td>\n",
       "      <td>1</td>\n",
       "      <td>0</td>\n",
       "      <td>0</td>\n",
       "    </tr>\n",
       "    <tr>\n",
       "      <th>74572</th>\n",
       "      <td>2020-01-07</td>\n",
       "      <td>DE</td>\n",
       "      <td>Germany</td>\n",
       "      <td>EURO</td>\n",
       "      <td>0</td>\n",
       "      <td>1</td>\n",
       "      <td>0</td>\n",
       "      <td>0</td>\n",
       "    </tr>\n",
       "    <tr>\n",
       "      <th>...</th>\n",
       "      <td>...</td>\n",
       "      <td>...</td>\n",
       "      <td>...</td>\n",
       "      <td>...</td>\n",
       "      <td>...</td>\n",
       "      <td>...</td>\n",
       "      <td>...</td>\n",
       "      <td>...</td>\n",
       "    </tr>\n",
       "    <tr>\n",
       "      <th>75519</th>\n",
       "      <td>2022-08-11</td>\n",
       "      <td>DE</td>\n",
       "      <td>Germany</td>\n",
       "      <td>EURO</td>\n",
       "      <td>55306</td>\n",
       "      <td>31459409</td>\n",
       "      <td>14</td>\n",
       "      <td>145680</td>\n",
       "    </tr>\n",
       "    <tr>\n",
       "      <th>75520</th>\n",
       "      <td>2022-08-12</td>\n",
       "      <td>DE</td>\n",
       "      <td>Germany</td>\n",
       "      <td>EURO</td>\n",
       "      <td>45393</td>\n",
       "      <td>31504802</td>\n",
       "      <td>16</td>\n",
       "      <td>145696</td>\n",
       "    </tr>\n",
       "    <tr>\n",
       "      <th>75521</th>\n",
       "      <td>2022-08-13</td>\n",
       "      <td>DE</td>\n",
       "      <td>Germany</td>\n",
       "      <td>EURO</td>\n",
       "      <td>30535</td>\n",
       "      <td>31535337</td>\n",
       "      <td>2</td>\n",
       "      <td>145698</td>\n",
       "    </tr>\n",
       "    <tr>\n",
       "      <th>75522</th>\n",
       "      <td>2022-08-14</td>\n",
       "      <td>DE</td>\n",
       "      <td>Germany</td>\n",
       "      <td>EURO</td>\n",
       "      <td>0</td>\n",
       "      <td>31535337</td>\n",
       "      <td>0</td>\n",
       "      <td>145698</td>\n",
       "    </tr>\n",
       "    <tr>\n",
       "      <th>75523</th>\n",
       "      <td>2022-08-15</td>\n",
       "      <td>DE</td>\n",
       "      <td>Germany</td>\n",
       "      <td>EURO</td>\n",
       "      <td>0</td>\n",
       "      <td>31535337</td>\n",
       "      <td>0</td>\n",
       "      <td>145698</td>\n",
       "    </tr>\n",
       "  </tbody>\n",
       "</table>\n",
       "<p>956 rows × 8 columns</p>\n",
       "</div>"
      ],
      "text/plain": [
       "      Date_reported Country_code  Country WHO_region  New_cases  \\\n",
       "74568    2020-01-03           DE  Germany       EURO          0   \n",
       "74569    2020-01-04           DE  Germany       EURO          1   \n",
       "74570    2020-01-05           DE  Germany       EURO          0   \n",
       "74571    2020-01-06           DE  Germany       EURO          0   \n",
       "74572    2020-01-07           DE  Germany       EURO          0   \n",
       "...             ...          ...      ...        ...        ...   \n",
       "75519    2022-08-11           DE  Germany       EURO      55306   \n",
       "75520    2022-08-12           DE  Germany       EURO      45393   \n",
       "75521    2022-08-13           DE  Germany       EURO      30535   \n",
       "75522    2022-08-14           DE  Germany       EURO          0   \n",
       "75523    2022-08-15           DE  Germany       EURO          0   \n",
       "\n",
       "       Cumulative_cases  New_deaths  Cumulative_deaths  \n",
       "74568                 0           0                  0  \n",
       "74569                 1           0                  0  \n",
       "74570                 1           0                  0  \n",
       "74571                 1           0                  0  \n",
       "74572                 1           0                  0  \n",
       "...                 ...         ...                ...  \n",
       "75519          31459409          14             145680  \n",
       "75520          31504802          16             145696  \n",
       "75521          31535337           2             145698  \n",
       "75522          31535337           0             145698  \n",
       "75523          31535337           0             145698  \n",
       "\n",
       "[956 rows x 8 columns]"
      ]
     },
     "execution_count": 71,
     "metadata": {},
     "output_type": "execute_result"
    }
   ],
   "source": [
    "df_germany"
   ]
  },
  {
   "cell_type": "code",
   "execution_count": 72,
   "id": "8704d5ea",
   "metadata": {},
   "outputs": [
    {
     "data": {
      "text/plain": [
       "<AxesSubplot:xlabel='Date_reported'>"
      ]
     },
     "execution_count": 72,
     "metadata": {},
     "output_type": "execute_result"
    },
    {
     "data": {
      "image/png": "[encoded data removed]",
      "text/plain": [
       "<Figure size 432x288 with 1 Axes>"
      ]
     },
     "metadata": {
      "needs_background": "light"
     },
     "output_type": "display_data"
    }
   ],
   "source": [
    "df_germany[['Date_reported','New_cases']].set_index('Date_reported').plot()"
   ]
  },
  {
   "cell_type": "code",
   "execution_count": 73,
   "id": "ce802472",
   "metadata": {},
   "outputs": [
    {
     "data": {
      "text/plain": [
       "<AxesSubplot:xlabel='Date_reported'>"
      ]
     },
     "execution_count": 73,
     "metadata": {},
     "output_type": "execute_result"
    },
    {
     "data": {
      "image/png": "[encoded data removed]",
      "text/plain": [
       "<Figure size 432x288 with 1 Axes>"
      ]
     },
     "metadata": {
      "needs_background": "light"
     },
     "output_type": "display_data"
    }
   ],
   "source": [
    "df_germany[['Date_reported','Cumulative_cases']].set_index('Date_reported').plot()"
   ]
  },
  {
   "cell_type": "code",
   "execution_count": null,
   "id": "2e600308",
   "metadata": {},
   "outputs": [],
   "source": []
  },
  {
   "cell_type": "code",
   "execution_count": null,
   "id": "edea2633",
   "metadata": {},
   "outputs": [],
   "source": []
  },
  {
   "cell_type": "code",
   "execution_count": 74,
   "id": "d877a746",
   "metadata": {},
   "outputs": [
    {
     "data": {
      "text/plain": [
       "<AxesSubplot:xlabel='Date_reported'>"
      ]
     },
     "execution_count": 74,
     "metadata": {},
     "output_type": "execute_result"
    },
    {
     "data": {
      "image/png": "[encoded data removed]",
      "text/plain": [
       "<Figure size 432x288 with 1 Axes>"
      ]
     },
     "metadata": {
      "needs_background": "light"
     },
     "output_type": "display_data"
    }
   ],
   "source": [
    "df_germany[['Date_reported','New_deaths']].set_index('Date_reported').plot()"
   ]
  },
  {
   "cell_type": "code",
   "execution_count": 75,
   "id": "e53983c7",
   "metadata": {},
   "outputs": [
    {
     "data": {
      "text/plain": [
       "<AxesSubplot:xlabel='Date_reported'>"
      ]
     },
     "execution_count": 75,
     "metadata": {},
     "output_type": "execute_result"
    },
    {
     "data": {
      "image/png": "[encoded data removed]",
      "text/plain": [
       "<Figure size 432x288 with 1 Axes>"
      ]
     },
     "metadata": {
      "needs_background": "light"
     },
     "output_type": "display_data"
    }
   ],
   "source": [
    "df_germany[['Date_reported','Cumulative_deaths']].set_index('Date_reported').plot()"
   ]
  }
 ],
 "metadata": {
  "kernelspec": {
   "display_name": "Python 3 (ipykernel)",
   "language": "python",
   "name": "python3"
  },
  "language_info": {
   "codemirror_mode": {
    "name": "ipython",
    "version": 3
   },
   "file_extension": ".py",
   "mimetype": "text/x-python",
   "name": "python",
   "nbconvert_exporter": "python",
   "pygments_lexer": "ipython3",
   "version": "3.9.7"
  }
 },
 "nbformat": 4,
 "nbformat_minor": 5
}
